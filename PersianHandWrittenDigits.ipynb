{
  "cells": [
    {
      "cell_type": "markdown",
      "source": [
        "\n",
        "## Import Library\n"
      ],
      "metadata": {
        "id": "cQq6aSX_O9hT"
      }
    },
    {
      "cell_type": "code",
      "source": [
        "import os\n",
        "import random\n",
        "import shutil\n",
        "import seaborn as sns\n",
        "from sklearn.metrics import confusion_matrix\n",
        "import numpy as np\n",
        "import pandas as pd\n",
        "from keras.preprocessing.image import ImageDataGenerator\n",
        "import matplotlib.pyplot as plt\n",
        "from PIL import Image\n",
        "from tensorflow.keras.layers import Dense, Conv2D, MaxPooling2D, Flatten\n",
        "from tensorflow.keras.models import Sequential"
      ],
      "metadata": {
        "id": "CTM3UBwfPCrm"
      },
      "execution_count": null,
      "outputs": []
    },
    {
      "cell_type": "markdown",
      "source": [
        "## Enter Data"
      ],
      "metadata": {
        "id": "VCP9KC75RkIk"
      }
    },
    {
      "cell_type": "markdown",
      "source": [
        "\n",
        "\n",
        "### download data\n",
        "\n"
      ],
      "metadata": {
        "id": "-dNPEDJIz213"
      }
    },
    {
      "cell_type": "code",
      "execution_count": null,
      "metadata": {
        "colab": {
          "base_uri": "https://localhost:8080/"
        },
        "id": "v1Wxl_rA4WMp",
        "outputId": "57c6510d-da2c-4669-d798-804a26b9ef48"
      },
      "outputs": [
        {
          "output_type": "stream",
          "name": "stdout",
          "text": [
            "rm: cannot remove '/root/.kaggle': No such file or directory\n"
          ]
        }
      ],
      "source": [
        "! pip install -q kaggle\n",
        "# Mount your Google Drive.\n",
        "# from google.colab import drive\n",
        "# drive.mount(\"/content/drive\")\n",
        "\n",
        "# !cp /content/drive/MyDrive/kaggle/kaggle.json /content/\n",
        "!rm -r ~/.kaggle\n",
        "!mkdir ~/.kaggle\n",
        "!cp /content/drive/MyDrive/kaggle/kaggle.json  ~/.kaggle/\n",
        "# !cp c ~/.kaggle/\n",
        "!chmod 600 ~/.kaggle/kaggle.json"
      ]
    },
    {
      "cell_type": "code",
      "execution_count": null,
      "metadata": {
        "colab": {
          "base_uri": "https://localhost:8080/"
        },
        "id": "dN0pKsWo4-Kc",
        "outputId": "547b2a10-e600-4021-bb98-38d7edcee6b9"
      },
      "outputs": [
        {
          "output_type": "stream",
          "name": "stdout",
          "text": [
            "Downloading persian-handwritten-digits.zip to /content\n",
            " 83% 97.0M/117M [00:01<00:00, 67.1MB/s]\n",
            "100% 117M/117M [00:01<00:00, 68.7MB/s] \n"
          ]
        }
      ],
      "source": [
        "!kaggle datasets download -d amirmahdiabbootalebi/persian-handwritten-digits"
      ]
    },
    {
      "cell_type": "code",
      "execution_count": null,
      "metadata": {
        "id": "sDYPz3iF7cEF"
      },
      "outputs": [],
      "source": [
        "!unzip /content/persian-handwritten-digits.zip"
      ]
    },
    {
      "cell_type": "code",
      "source": [
        "!cp /content/drive/MyDrive/DL/persian-handwritten-digits-2.zip /content/"
      ],
      "metadata": {
        "id": "6B2I-pFoSwpL"
      },
      "execution_count": null,
      "outputs": []
    },
    {
      "cell_type": "code",
      "source": [
        "!rm -rf /content/content/"
      ],
      "metadata": {
        "id": "3ya0DNhavPei"
      },
      "execution_count": null,
      "outputs": []
    },
    {
      "cell_type": "code",
      "execution_count": null,
      "metadata": {
        "id": "Jimye5ep-dhX"
      },
      "outputs": [],
      "source": [
        "# import os\n",
        "def get_files_from_folder(folder_path):\n",
        "    files_dict = {}\n",
        "\n",
        "    for folder_name, subfolders, filenames in os.walk(folder_path):\n",
        "        if folder_name.split(\"/\")[-1].split(\"_\")[-1] == os.path.basename(folder_path):\n",
        "            pass\n",
        "        else:\n",
        "            files_dict[folder_name.split(\"/\")[-1].split(\"_\")[-1]] = []\n",
        "\n",
        "        for filename in filenames:\n",
        "            file_ext = os.path.splitext(filename)[1]\n",
        "            if file_ext.lower() == \".jpg\":\n",
        "                files_dict[folder_name.split(\"/\")[-1].split(\"_\")[-1]].append(os.path.join(folder_name, filename))\n",
        "\n",
        "    return files_dict\n",
        "\n",
        "files_test = get_files_from_folder('/content/Test')\n",
        "files_train = get_files_from_folder('/content/Train')\n",
        "# files = {**files_test, **files_train}\n"
      ]
    },
    {
      "cell_type": "code",
      "execution_count": null,
      "metadata": {
        "id": "6Y7QEgWITMaW"
      },
      "outputs": [],
      "source": [
        "def merge_dicts(dict1, dict2):\n",
        "    merged_dict = dict1.copy()\n",
        "    for key, value in dict2.items():\n",
        "        if key in merged_dict:\n",
        "            merged_dict[key].extend(value)\n",
        "        else:\n",
        "            merged_dict[key] = value\n",
        "    return merged_dict\n",
        "\n",
        "merged_dict = merge_dicts(files_test,files_train)\n",
        "\n",
        "\n",
        "def allpath(d):\n",
        "  l = []\n",
        "  for k, v in d.items():\n",
        "    l.extend(v)\n",
        "  return l\n",
        "\n",
        "\n",
        "adrsfile = allpath(merged_dict)\n"
      ]
    },
    {
      "cell_type": "code",
      "execution_count": null,
      "metadata": {
        "id": "GVJN0keEkLs1"
      },
      "outputs": [],
      "source": [
        "# import random\n",
        "\n",
        "def split_dataset(data, train_ratio, test_ratio, val_ratio):\n",
        "    random.seed(42)\n",
        "    random.shuffle(data)\n",
        "\n",
        "    total_len = len(data)\n",
        "\n",
        "    train_len = int(total_len * train_ratio)\n",
        "    test_len = int(total_len * test_ratio)\n",
        "    val_len = int(total_len * val_ratio)\n",
        "\n",
        "    train_data = data[:train_len]\n",
        "    test_data = data[train_len:train_len+test_len]\n",
        "    val_data = data[train_len+test_len:]\n",
        "\n",
        "    return train_data, test_data, val_data\n",
        "\n",
        "taradrsfile ,tsadrsfile ,valadrsfile = split_dataset(adrsfile, 0.7, 0.2, 0.1)"
      ]
    },
    {
      "cell_type": "code",
      "execution_count": null,
      "metadata": {
        "id": "rQoQv1A0t5So",
        "colab": {
          "base_uri": "https://localhost:8080/"
        },
        "outputId": "00f93cde-a5c9-4736-bc95-5cc8b1bc87b0"
      },
      "outputs": [
        {
          "output_type": "stream",
          "name": "stdout",
          "text": [
            "mkdir: cannot create directory ‘/content/persian-handwritten-digits’: File exists\n",
            "mkdir: cannot create directory ‘/content/persian-handwritten-digits/Train’: File exists\n",
            "mkdir: cannot create directory ‘/content/persian-handwritten-digits/Test’: File exists\n",
            "mkdir: cannot create directory ‘/content/persian-handwritten-digits/Vallidation’: File exists\n"
          ]
        }
      ],
      "source": [
        "!mkdir /content/persian-handwritten-digits\n",
        "!mkdir /content/persian-handwritten-digits/Train\n",
        "!mkdir /content/persian-handwritten-digits/Test\n",
        "!mkdir /content/persian-handwritten-digits/Vallidation"
      ]
    },
    {
      "cell_type": "code",
      "execution_count": null,
      "metadata": {
        "id": "9luHnYxIw8i6"
      },
      "outputs": [],
      "source": [
        "# import shutil\n",
        "\n",
        "def CopyToF(listFile,Path):\n",
        "  for filepath in listFile:\n",
        "    if not os.path.exists(os.path.join(Path, os.path.basename(os.path.dirname(filepath)))):\n",
        "      os.mkdir(os.path.join(Path, os.path.basename(os.path.dirname(filepath))))\n",
        "    shutil.copy(filepath, os.path.join(Path, os.path.basename(os.path.dirname(filepath))))\n",
        "\n",
        "  print(len(listFile), \"copy to dir\")\n",
        "\n",
        "CopyToF(taradrsfile, \"/content/persian-handwritten-digits/Train\")\n",
        "CopyToF(tsadrsfile, \"/content/persian-handwritten-digits/Test\")\n",
        "CopyToF(valadrsfile, \"/content/persian-handwritten-digits/Vallidation\")\n"
      ]
    },
    {
      "cell_type": "code",
      "source": [
        "shutil.make_archive(\"/content/persian-handwritten-digits-2\", 'zip', \"/content/persian-handwritten-digits\")"
      ],
      "metadata": {
        "id": "O86qZj4_GAxu"
      },
      "execution_count": null,
      "outputs": []
    },
    {
      "cell_type": "markdown",
      "source": [
        "### move data"
      ],
      "metadata": {
        "id": "J4u9KM7Gz_vm"
      }
    },
    {
      "cell_type": "code",
      "source": [
        "!cp /content/drive/MyDrive/DL/persian-handwritten-digits-2.zip /content/"
      ],
      "metadata": {
        "id": "OBWYmIhA0GVU"
      },
      "execution_count": null,
      "outputs": []
    },
    {
      "cell_type": "code",
      "source": [
        "!mkdir /content/persian-handwritten-digits\n",
        "!unzip /content/persian-handwritten-digits-2.zip -d /content/persian-handwritten-digits"
      ],
      "metadata": {
        "id": "OdB40HnI0doy"
      },
      "execution_count": null,
      "outputs": []
    },
    {
      "cell_type": "markdown",
      "source": [
        "## Model"
      ],
      "metadata": {
        "id": "gMGvoCpW1949"
      }
    },
    {
      "cell_type": "code",
      "execution_count": null,
      "metadata": {
        "id": "rEfJww8iFZal",
        "colab": {
          "base_uri": "https://localhost:8080/"
        },
        "outputId": "d7d51e94-4deb-4f60-d8e9-c7eafae3fec3"
      },
      "outputs": [
        {
          "output_type": "stream",
          "name": "stdout",
          "text": [
            "Found 105000 images belonging to 10 classes.\n",
            "Found 30000 images belonging to 10 classes.\n",
            "Found 15000 images belonging to 10 classes.\n"
          ]
        }
      ],
      "source": [
        "# from keras.preprocessing.image import ImageDataGenerator\n",
        "\n",
        "imgGenT = ImageDataGenerator(rescale= 1/255)\n",
        "\n",
        "trianDataSet = imgGenT.flow_from_directory(\n",
        "    \"/content/persian-handwritten-digits/Train\",\n",
        "    batch_size= 64,\n",
        "    class_mode=\"categorical\",\n",
        "    shuffle=False,\n",
        "    target_size= (28, 28)\n",
        ")\n",
        "\n",
        "imgGenTs = ImageDataGenerator(rescale= 1/255)\n",
        "\n",
        "testDataSet = imgGenTs.flow_from_directory(\n",
        "    \"/content/persian-handwritten-digits/Test\",\n",
        "    batch_size= 64,\n",
        "    class_mode=\"categorical\",\n",
        "    shuffle=False,\n",
        "    target_size= (28, 28)\n",
        ")\n",
        "\n",
        "imgGenVal = ImageDataGenerator(rescale= 1/255)\n",
        "\n",
        "ValDataSet = imgGenTs.flow_from_directory(\n",
        "    \"/content/persian-handwritten-digits/Vallidation\",\n",
        "    batch_size= 64,\n",
        "    shuffle=False,\n",
        "    class_mode=\"categorical\",\n",
        "    target_size= (28, 28)\n",
        ")\n"
      ]
    },
    {
      "cell_type": "code",
      "source": [
        "# import os\n",
        "# import random\n",
        "# import matplotlib.pyplot as plt\n",
        "# from PIL import Image\n",
        "\n",
        "mainfolder = \"/content/persian-handwritten-digits/Train\"\n",
        "fig, axs = plt.subplots(nrows=2, ncols=5, figsize=(10,5))\n",
        "for i in range(10):\n",
        "    fileNameList = os.listdir(mainfolder + \"/class_\" + str(i))\n",
        "    image_filename = random.choice(fileNameList)\n",
        "    image_path = os.path.join(mainfolder,\"class_\" + str(i), image_filename)\n",
        "    image = Image.open(image_path)\n",
        "    img = axs[int(i >= 5), i%5].imshow(image ,cmap='Purples')\n",
        "    img.axes.get_yaxis().set_visible(False)\n",
        "    img.axes.get_xaxis().set_visible(False)\n",
        "    img.axes.set_title(f'Label: {i}')\n"
      ],
      "metadata": {
        "colab": {
          "base_uri": "https://localhost:8080/",
          "height": 402
        },
        "id": "QjaLgFiJHLrO",
        "outputId": "66e9c661-f982-47ec-d000-567809014f3b"
      },
      "execution_count": null,
      "outputs": [
        {
          "output_type": "display_data",
          "data": {
            "text/plain": [
              "<Figure size 1000x500 with 10 Axes>"
            ],
            "image/png": "[encoded data removed]"
          },
          "metadata": {}
        }
      ]
    },
    {
      "cell_type": "code",
      "execution_count": null,
      "metadata": {
        "colab": {
          "base_uri": "https://localhost:8080/"
        },
        "id": "dF87JqfWGMPL",
        "outputId": "52fd1af1-98c5-461e-da3d-cdead5709983"
      },
      "outputs": [
        {
          "output_type": "stream",
          "name": "stdout",
          "text": [
            "Model: \"sequential\"\n",
            "_________________________________________________________________\n",
            " Layer (type)                Output Shape              Param #   \n",
            "=================================================================\n",
            " conv2d (Conv2D)             (None, 26, 26, 12)        120       \n",
            "                                                                 \n",
            " conv2d_1 (Conv2D)           (None, 24, 24, 20)        2180      \n",
            "                                                                 \n",
            " max_pooling2d (MaxPooling2  (None, 12, 12, 20)        0         \n",
            " D)                                                              \n",
            "                                                                 \n",
            " flatten (Flatten)           (None, 2880)              0         \n",
            "                                                                 \n",
            " dense (Dense)               (None, 20)                57620     \n",
            "                                                                 \n",
            " dense_1 (Dense)             (None, 10)                210       \n",
            "                                                                 \n",
            "=================================================================\n",
            "Total params: 60130 (234.88 KB)\n",
            "Trainable params: 60130 (234.88 KB)\n",
            "Non-trainable params: 0 (0.00 Byte)\n",
            "_________________________________________________________________\n"
          ]
        }
      ],
      "source": [
        "# from tensorflow.keras.layers import Dense, Conv2D, MaxPooling2D, Flatten\n",
        "# from tensorflow.keras.models import Sequential\n",
        "\n",
        "CNN = Sequential()\n",
        "\n",
        "CNN.add(Conv2D(filters = 12, kernel_size = (3, 3), activation= 'relu', input_shape = (28, 28, 1)))\n",
        "CNN.add(Conv2D(filters = 20, kernel_size = (3, 3), activation= 'relu'))\n",
        "CNN.add(MaxPooling2D(pool_size=(2,2)))\n",
        "CNN.add(Flatten())\n",
        "CNN.add(Dense(20, activation = 'relu'))\n",
        "CNN.add(Dense(10, activation = 'softmax'))\n",
        "\n",
        "CNN.compile(loss= \"categorical_crossentropy\", optimizer = \"adam\" ,metrics = [\"accuracy\"])\n",
        "CNN.summary()"
      ]
    },
    {
      "cell_type": "code",
      "execution_count": null,
      "metadata": {
        "id": "FzTfm4uCGiGO"
      },
      "outputs": [],
      "source": [
        "CNN.compile(loss= \"categorical_crossentropy\", optimizer = \"adam\" ,metrics = [\"accuracy\"])"
      ]
    },
    {
      "cell_type": "code",
      "execution_count": null,
      "metadata": {
        "colab": {
          "base_uri": "https://localhost:8080/"
        },
        "id": "NXOT43PqGmcf",
        "outputId": "803808e1-3a32-4220-8284-141d6afa3723"
      },
      "outputs": [
        {
          "output_type": "stream",
          "name": "stdout",
          "text": [
            "Epoch 1/15\n",
            "1641/1641 [==============================] - 64s 32ms/step - loss: 0.3274 - accuracy: 0.8765 - val_loss: 0.0320 - val_accuracy: 0.9898\n",
            "Epoch 2/15\n",
            "1641/1641 [==============================] - 57s 35ms/step - loss: 0.0303 - accuracy: 0.9913 - val_loss: 0.0176 - val_accuracy: 0.9942\n",
            "Epoch 3/15\n",
            "1641/1641 [==============================] - 54s 33ms/step - loss: 0.0150 - accuracy: 0.9954 - val_loss: 0.0099 - val_accuracy: 0.9970\n",
            "Epoch 4/15\n",
            "1641/1641 [==============================] - 53s 33ms/step - loss: 0.0117 - accuracy: 0.9963 - val_loss: 0.0106 - val_accuracy: 0.9969\n",
            "Epoch 5/15\n",
            "1641/1641 [==============================] - 53s 33ms/step - loss: 0.0095 - accuracy: 0.9970 - val_loss: 0.0091 - val_accuracy: 0.9970\n",
            "Epoch 6/15\n",
            "1641/1641 [==============================] - 53s 33ms/step - loss: 0.0064 - accuracy: 0.9980 - val_loss: 0.0144 - val_accuracy: 0.9959\n",
            "Epoch 7/15\n",
            "1641/1641 [==============================] - 53s 32ms/step - loss: 0.0057 - accuracy: 0.9980 - val_loss: 0.0084 - val_accuracy: 0.9973\n",
            "Epoch 8/15\n",
            "1641/1641 [==============================] - 53s 32ms/step - loss: 0.0050 - accuracy: 0.9983 - val_loss: 0.0092 - val_accuracy: 0.9969\n",
            "Epoch 9/15\n",
            "1641/1641 [==============================] - 51s 31ms/step - loss: 0.0029 - accuracy: 0.9990 - val_loss: 0.0072 - val_accuracy: 0.9977\n",
            "Epoch 10/15\n",
            "1641/1641 [==============================] - 50s 30ms/step - loss: 0.0035 - accuracy: 0.9988 - val_loss: 0.0075 - val_accuracy: 0.9974\n",
            "Epoch 11/15\n",
            "1641/1641 [==============================] - 50s 30ms/step - loss: 0.0023 - accuracy: 0.9992 - val_loss: 0.0094 - val_accuracy: 0.9975\n",
            "Epoch 12/15\n",
            "1641/1641 [==============================] - 49s 30ms/step - loss: 0.0021 - accuracy: 0.9993 - val_loss: 0.0099 - val_accuracy: 0.9975\n",
            "Epoch 13/15\n",
            "1641/1641 [==============================] - 50s 31ms/step - loss: 0.0021 - accuracy: 0.9992 - val_loss: 0.0056 - val_accuracy: 0.9981\n",
            "Epoch 14/15\n",
            "1641/1641 [==============================] - 48s 29ms/step - loss: 0.0015 - accuracy: 0.9996 - val_loss: 0.0065 - val_accuracy: 0.9980\n",
            "Epoch 15/15\n",
            "1641/1641 [==============================] - 48s 29ms/step - loss: 9.7185e-04 - accuracy: 0.9997 - val_loss: 0.0106 - val_accuracy: 0.9970\n"
          ]
        }
      ],
      "source": [
        "history = CNN.fit(\n",
        "    trianDataSet,\n",
        "    epochs=15,\n",
        "    verbose=1,\n",
        "    validation_data=ValDataSet)"
      ]
    },
    {
      "cell_type": "code",
      "source": [
        "results = CNN.evaluate(testDataSet)\n",
        "\n",
        "print(\"Test loss:\", results[0])\n",
        "print(\"Test accuracy:\", results[1])"
      ],
      "metadata": {
        "colab": {
          "base_uri": "https://localhost:8080/"
        },
        "id": "vJgEa0c42EEP",
        "outputId": "2f6bce19-42ed-4338-fc14-9abdd3f5b7a5"
      },
      "execution_count": null,
      "outputs": [
        {
          "output_type": "stream",
          "name": "stdout",
          "text": [
            "469/469 [==============================] - 11s 24ms/step - loss: 0.0111 - accuracy: 0.9978\n",
            "Test loss: 0.011119513772428036\n",
            "Test accuracy: 0.9977666735649109\n"
          ]
        }
      ]
    },
    {
      "cell_type": "code",
      "source": [
        "# import matplotlib.pyplot as plt\n",
        "\n",
        "plt.figure(figsize=(12, 4))\n",
        "plt.subplot(1, 2, 1)\n",
        "plt.plot(history.history['loss'], label='Loss')\n",
        "plt.plot(history.history['val_loss'], label='val_loss')\n",
        "plt.xlabel('Epoch')\n",
        "plt.ylabel('Loss')\n",
        "plt.legend()\n",
        "\n",
        "plt.subplot(1, 2, 2)\n",
        "plt.plot(history.history['accuracy'], label='Accuracy')\n",
        "plt.plot(history.history['val_accuracy'], label='val_accuracy')\n",
        "plt.xlabel('Epoch')\n",
        "plt.ylabel('Accuracy')\n",
        "plt.legend()\n",
        "\n",
        "plt.show()"
      ],
      "metadata": {
        "colab": {
          "base_uri": "https://localhost:8080/",
          "height": 388
        },
        "id": "xhVyZxML2TS4",
        "outputId": "67b9a77d-9ccb-408d-81e1-e6c0c66f06dd"
      },
      "execution_count": null,
      "outputs": [
        {
          "output_type": "display_data",
          "data": {
            "text/plain": [
              "<Figure size 1200x400 with 2 Axes>"
            ],
            "image/png": "[encoded data removed]"
          },
          "metadata": {}
        }
      ]
    },
    {
      "cell_type": "code",
      "source": [
        "# import numpy as np\n",
        "\n",
        "Y_pred = CNN.predict(testDataSet)\n",
        "Y_pred_classes = np.argmax(Y_pred,axis = 1)\n",
        "Y_true = testDataSet.labels"
      ],
      "metadata": {
        "colab": {
          "base_uri": "https://localhost:8080/"
        },
        "id": "6mBh7VGJSZrL",
        "outputId": "f7a42f8b-1fe4-42bb-e385-cbcfb80dee6c"
      },
      "execution_count": null,
      "outputs": [
        {
          "output_type": "stream",
          "name": "stdout",
          "text": [
            "469/469 [==============================] - 12s 24ms/step\n"
          ]
        }
      ]
    },
    {
      "cell_type": "code",
      "source": [
        "# import seaborn as sns\n",
        "# from sklearn.metrics import confusion_matrix\n",
        "\n",
        "cm = confusion_matrix(Y_true, Y_pred_classes)\n",
        "sns.heatmap(cm, annot=True, cmap='Reds',fmt='g')\n",
        "plt.xlabel('Predicted')\n",
        "plt.ylabel('True')\n",
        "plt.tight_layout()\n",
        "plt.show()"
      ],
      "metadata": {
        "colab": {
          "base_uri": "https://localhost:8080/",
          "height": 487
        },
        "id": "HkxIlAb-TBna",
        "outputId": "d62791be-b993-4f53-8b0b-a400c6b08342"
      },
      "execution_count": null,
      "outputs": [
        {
          "output_type": "display_data",
          "data": {
            "text/plain": [
              "<Figure size 640x480 with 2 Axes>"
            ],
            "image/png": "[encoded data removed]"
          },
          "metadata": {}
        }
      ]
    },
    {
      "cell_type": "code",
      "source": [
        "# import pandas as pd\n",
        "\n",
        "dataframe_ = pd.DataFrame({\n",
        "    \"path\" : testDataSet.filepaths,\n",
        "    \"Y_true\" : testDataSet.labels,\n",
        "    \"Y_pred\" : Y_pred_classes\n",
        "})\n",
        "\n",
        "dataframe = dataframe_[dataframe_[\"Y_true\"] != dataframe_[\"Y_pred\"]]\n",
        "dataframe # The wrong prediction.\n"
      ],
      "metadata": {
        "colab": {
          "base_uri": "https://localhost:8080/",
          "height": 423
        },
        "id": "oGauWNekIGrN",
        "outputId": "2bc69dd5-5c7c-49f6-d05d-f36e9aa35bbd"
      },
      "execution_count": null,
      "outputs": [
        {
          "output_type": "execute_result",
          "data": {
            "text/plain": [
              "                                                    path  Y_true  Y_pred\n",
              "2351   /content/persian-handwritten-digits/Test/class...       0       8\n",
              "2439   /content/persian-handwritten-digits/Test/class...       0       4\n",
              "5722   /content/persian-handwritten-digits/Test/class...       1       9\n",
              "6202   /content/persian-handwritten-digits/Test/class...       2       1\n",
              "6541   /content/persian-handwritten-digits/Test/class...       2       1\n",
              "...                                                  ...     ...     ...\n",
              "26006  /content/persian-handwritten-digits/Test/class...       8       9\n",
              "27529  /content/persian-handwritten-digits/Test/class...       9       6\n",
              "28281  /content/persian-handwritten-digits/Test/class...       9       1\n",
              "28401  /content/persian-handwritten-digits/Test/class...       9       1\n",
              "29365  /content/persian-handwritten-digits/Test/class...       9       1\n",
              "\n",
              "[67 rows x 3 columns]"
            ],
            "text/html": [
              "\n",
              "  <div id=\"df-408f69f4-9d86-45e1-b550-db8ac2cdc083\" class=\"colab-df-container\">\n",
              "    <div>\n",
              "<style scoped>\n",
              "    .dataframe tbody tr th:only-of-type {\n",
              "        vertical-align: middle;\n",
              "    }\n",
              "\n",
              "    .dataframe tbody tr th {\n",
              "        vertical-align: top;\n",
              "    }\n",
              "\n",
              "    .dataframe thead th {\n",
              "        text-align: right;\n",
              "    }\n",
              "</style>\n",
              "<table border=\"1\" class=\"dataframe\">\n",
              "  <thead>\n",
              "    <tr style=\"text-align: right;\">\n",
              "      <th></th>\n",
              "      <th>path</th>\n",
              "      <th>Y_true</th>\n",
              "      <th>Y_pred</th>\n",
              "    </tr>\n",
              "  </thead>\n",
              "  <tbody>\n",
              "    <tr>\n",
              "      <th>2351</th>\n",
              "      <td>/content/persian-handwritten-digits/Test/class...</td>\n",
              "      <td>0</td>\n",
              "      <td>8</td>\n",
              "    </tr>\n",
              "    <tr>\n",
              "      <th>2439</th>\n",
              "      <td>/content/persian-handwritten-digits/Test/class...</td>\n",
              "      <td>0</td>\n",
              "      <td>4</td>\n",
              "    </tr>\n",
              "    <tr>\n",
              "      <th>5722</th>\n",
              "      <td>/content/persian-handwritten-digits/Test/class...</td>\n",
              "      <td>1</td>\n",
              "      <td>9</td>\n",
              "    </tr>\n",
              "    <tr>\n",
              "      <th>6202</th>\n",
              "      <td>/content/persian-handwritten-digits/Test/class...</td>\n",
              "      <td>2</td>\n",
              "      <td>1</td>\n",
              "    </tr>\n",
              "    <tr>\n",
              "      <th>6541</th>\n",
              "      <td>/content/persian-handwritten-digits/Test/class...</td>\n",
              "      <td>2</td>\n",
              "      <td>1</td>\n",
              "    </tr>\n",
              "    <tr>\n",
              "      <th>...</th>\n",
              "      <td>...</td>\n",
              "      <td>...</td>\n",
              "      <td>...</td>\n",
              "    </tr>\n",
              "    <tr>\n",
              "      <th>26006</th>\n",
              "      <td>/content/persian-handwritten-digits/Test/class...</td>\n",
              "      <td>8</td>\n",
              "      <td>9</td>\n",
              "    </tr>\n",
              "    <tr>\n",
              "      <th>27529</th>\n",
              "      <td>/content/persian-handwritten-digits/Test/class...</td>\n",
              "      <td>9</td>\n",
              "      <td>6</td>\n",
              "    </tr>\n",
              "    <tr>\n",
              "      <th>28281</th>\n",
              "      <td>/content/persian-handwritten-digits/Test/class...</td>\n",
              "      <td>9</td>\n",
              "      <td>1</td>\n",
              "    </tr>\n",
              "    <tr>\n",
              "      <th>28401</th>\n",
              "      <td>/content/persian-handwritten-digits/Test/class...</td>\n",
              "      <td>9</td>\n",
              "      <td>1</td>\n",
              "    </tr>\n",
              "    <tr>\n",
              "      <th>29365</th>\n",
              "      <td>/content/persian-handwritten-digits/Test/class...</td>\n",
              "      <td>9</td>\n",
              "      <td>1</td>\n",
              "    </tr>\n",
              "  </tbody>\n",
              "</table>\n",
              "<p>67 rows × 3 columns</p>\n",
              "</div>\n",
              "    <div class=\"colab-df-buttons\">\n",
              "\n",
              "  <div class=\"colab-df-container\">\n",
              "    <button class=\"colab-df-convert\" onclick=\"convertToInteractive('df-408f69f4-9d86-45e1-b550-db8ac2cdc083')\"\n",
              "            title=\"Convert this dataframe to an interactive table.\"\n",
              "            style=\"display:none;\">\n",
              "\n",
              "  <svg xmlns=\"http://www.w3.org/2000/svg\" height=\"24px\" viewBox=\"0 -960 960 960\">\n",
              "    <path d=\"M120-120v-720h720v720H120Zm60-500h600v-160H180v160Zm220 220h160v-160H400v160Zm0 220h160v-160H400v160ZM180-400h160v-160H180v160Zm440 0h160v-160H620v160ZM180-180h160v-160H180v160Zm440 0h160v-160H620v160Z\"/>\n",
              "  </svg>\n",
              "    </button>\n",
              "\n",
              "  <style>\n",
              "    .colab-df-container {\n",
              "      display:flex;\n",
              "      gap: 12px;\n",
              "    }\n",
              "\n",
              "    .colab-df-convert {\n",
              "      background-color: #E8F0FE;\n",
              "      border: none;\n",
              "      border-radius: 50%;\n",
              "      cursor: pointer;\n",
              "      display: none;\n",
              "      fill: #1967D2;\n",
              "      height: 32px;\n",
              "      padding: 0 0 0 0;\n",
              "      width: 32px;\n",
              "    }\n",
              "\n",
              "    .colab-df-convert:hover {\n",
              "      background-color: #E2EBFA;\n",
              "      box-shadow: 0px 1px 2px rgba(60, 64, 67, 0.3), 0px 1px 3px 1px rgba(60, 64, 67, 0.15);\n",
              "      fill: #174EA6;\n",
              "    }\n",
              "\n",
              "    .colab-df-buttons div {\n",
              "      margin-bottom: 4px;\n",
              "    }\n",
              "\n",
              "    [theme=dark] .colab-df-convert {\n",
              "      background-color: #3B4455;\n",
              "      fill: #D2E3FC;\n",
              "    }\n",
              "\n",
              "    [theme=dark] .colab-df-convert:hover {\n",
              "      background-color: #434B5C;\n",
              "      box-shadow: 0px 1px 3px 1px rgba(0, 0, 0, 0.15);\n",
              "      filter: drop-shadow(0px 1px 2px rgba(0, 0, 0, 0.3));\n",
              "      fill: #FFFFFF;\n",
              "    }\n",
              "  </style>\n",
              "\n",
              "    <script>\n",
              "      const buttonEl =\n",
              "        document.querySelector('#df-408f69f4-9d86-45e1-b550-db8ac2cdc083 button.colab-df-convert');\n",
              "      buttonEl.style.display =\n",
              "        google.colab.kernel.accessAllowed ? 'block' : 'none';\n",
              "\n",
              "      async function convertToInteractive(key) {\n",
              "        const element = document.querySelector('#df-408f69f4-9d86-45e1-b550-db8ac2cdc083');\n",
              "        const dataTable =\n",
              "          await google.colab.kernel.invokeFunction('convertToInteractive',\n",
              "                                                    [key], {});\n",
              "        if (!dataTable) return;\n",
              "\n",
              "        const docLinkHtml = 'Like what you see? Visit the ' +\n",
              "          '<a target=\"_blank\" href=https://colab.research.google.com/notebooks/data_table.ipynb>data table notebook</a>'\n",
              "          + ' to learn more about interactive tables.';\n",
              "        element.innerHTML = '';\n",
              "        dataTable['output_type'] = 'display_data';\n",
              "        await google.colab.output.renderOutput(dataTable, element);\n",
              "        const docLink = document.createElement('div');\n",
              "        docLink.innerHTML = docLinkHtml;\n",
              "        element.appendChild(docLink);\n",
              "      }\n",
              "    </script>\n",
              "  </div>\n",
              "\n",
              "\n",
              "<div id=\"df-a145830a-53fb-4b84-8b59-e8e55ca0d4dc\">\n",
              "  <button class=\"colab-df-quickchart\" onclick=\"quickchart('df-a145830a-53fb-4b84-8b59-e8e55ca0d4dc')\"\n",
              "            title=\"Suggest charts\"\n",
              "            style=\"display:none;\">\n",
              "\n",
              "<svg xmlns=\"http://www.w3.org/2000/svg\" height=\"24px\"viewBox=\"0 0 24 24\"\n",
              "     width=\"24px\">\n",
              "    <g>\n",
              "        <path d=\"M19 3H5c-1.1 0-2 .9-2 2v14c0 1.1.9 2 2 2h14c1.1 0 2-.9 2-2V5c0-1.1-.9-2-2-2zM9 17H7v-7h2v7zm4 0h-2V7h2v10zm4 0h-2v-4h2v4z\"/>\n",
              "    </g>\n",
              "</svg>\n",
              "  </button>\n",
              "\n",
              "<style>\n",
              "  .colab-df-quickchart {\n",
              "      --bg-color: #E8F0FE;\n",
              "      --fill-color: #1967D2;\n",
              "      --hover-bg-color: #E2EBFA;\n",
              "      --hover-fill-color: #174EA6;\n",
              "      --disabled-fill-color: #AAA;\n",
              "      --disabled-bg-color: #DDD;\n",
              "  }\n",
              "\n",
              "  [theme=dark] .colab-df-quickchart {\n",
              "      --bg-color: #3B4455;\n",
              "      --fill-color: #D2E3FC;\n",
              "      --hover-bg-color: #434B5C;\n",
              "      --hover-fill-color: #FFFFFF;\n",
              "      --disabled-bg-color: #3B4455;\n",
              "      --disabled-fill-color: #666;\n",
              "  }\n",
              "\n",
              "  .colab-df-quickchart {\n",
              "    background-color: var(--bg-color);\n",
              "    border: none;\n",
              "    border-radius: 50%;\n",
              "    cursor: pointer;\n",
              "    display: none;\n",
              "    fill: var(--fill-color);\n",
              "    height: 32px;\n",
              "    padding: 0;\n",
              "    width: 32px;\n",
              "  }\n",
              "\n",
              "  .colab-df-quickchart:hover {\n",
              "    background-color: var(--hover-bg-color);\n",
              "    box-shadow: 0 1px 2px rgba(60, 64, 67, 0.3), 0 1px 3px 1px rgba(60, 64, 67, 0.15);\n",
              "    fill: var(--button-hover-fill-color);\n",
              "  }\n",
              "\n",
              "  .colab-df-quickchart-complete:disabled,\n",
              "  .colab-df-quickchart-complete:disabled:hover {\n",
              "    background-color: var(--disabled-bg-color);\n",
              "    fill: var(--disabled-fill-color);\n",
              "    box-shadow: none;\n",
              "  }\n",
              "\n",
              "  .colab-df-spinner {\n",
              "    border: 2px solid var(--fill-color);\n",
              "    border-color: transparent;\n",
              "    border-bottom-color: var(--fill-color);\n",
              "    animation:\n",
              "      spin 1s steps(1) infinite;\n",
              "  }\n",
              "\n",
              "  @keyframes spin {\n",
              "    0% {\n",
              "      border-color: transparent;\n",
              "      border-bottom-color: var(--fill-color);\n",
              "      border-left-color: var(--fill-color);\n",
              "    }\n",
              "    20% {\n",
              "      border-color: transparent;\n",
              "      border-left-color: var(--fill-color);\n",
              "      border-top-color: var(--fill-color);\n",
              "    }\n",
              "    30% {\n",
              "      border-color: transparent;\n",
              "      border-left-color: var(--fill-color);\n",
              "      border-top-color: var(--fill-color);\n",
              "      border-right-color: var(--fill-color);\n",
              "    }\n",
              "    40% {\n",
              "      border-color: transparent;\n",
              "      border-right-color: var(--fill-color);\n",
              "      border-top-color: var(--fill-color);\n",
              "    }\n",
              "    60% {\n",
              "      border-color: transparent;\n",
              "      border-right-color: var(--fill-color);\n",
              "    }\n",
              "    80% {\n",
              "      border-color: transparent;\n",
              "      border-right-color: var(--fill-color);\n",
              "      border-bottom-color: var(--fill-color);\n",
              "    }\n",
              "    90% {\n",
              "      border-color: transparent;\n",
              "      border-bottom-color: var(--fill-color);\n",
              "    }\n",
              "  }\n",
              "</style>\n",
              "\n",
              "  <script>\n",
              "    async function quickchart(key) {\n",
              "      const quickchartButtonEl =\n",
              "        document.querySelector('#' + key + ' button');\n",
              "      quickchartButtonEl.disabled = true;  // To prevent multiple clicks.\n",
              "      quickchartButtonEl.classList.add('colab-df-spinner');\n",
              "      try {\n",
              "        const charts = await google.colab.kernel.invokeFunction(\n",
              "            'suggestCharts', [key], {});\n",
              "      } catch (error) {\n",
              "        console.error('Error during call to suggestCharts:', error);\n",
              "      }\n",
              "      quickchartButtonEl.classList.remove('colab-df-spinner');\n",
              "      quickchartButtonEl.classList.add('colab-df-quickchart-complete');\n",
              "    }\n",
              "    (() => {\n",
              "      let quickchartButtonEl =\n",
              "        document.querySelector('#df-a145830a-53fb-4b84-8b59-e8e55ca0d4dc button');\n",
              "      quickchartButtonEl.style.display =\n",
              "        google.colab.kernel.accessAllowed ? 'block' : 'none';\n",
              "    })();\n",
              "  </script>\n",
              "</div>\n",
              "    </div>\n",
              "  </div>\n"
            ]
          },
          "metadata": {},
          "execution_count": 15
        }
      ]
    },
    {
      "cell_type": "code",
      "source": [
        "# import matplotlib.pyplot as plt\n",
        "# from PIL import Image\n",
        "\n",
        "selected_rows = dataframe.groupby(\"Y_true\").apply(lambda x: x.sample(n=1))\n",
        "fig, axs = plt.subplots(nrows=2, ncols=5, figsize=(10,5))\n",
        "for i in range(10):\n",
        "    image_path = selected_rows.path.iloc[i]\n",
        "    image = Image.open(image_path)\n",
        "    img = axs[int(i >= 5), i%5].imshow(image ,cmap='Purples')\n",
        "    img.axes.get_yaxis().set_visible(False)\n",
        "    img.axes.get_xaxis().set_visible(False)\n",
        "    img.axes.set_title(f'True Label: {selected_rows.Y_true.iloc[i]} \\n False Label: {selected_rows.Y_pred.iloc[i]}', color = 'red')\n"
      ],
      "metadata": {
        "id": "VTHCZ5uX2vDc",
        "colab": {
          "base_uri": "https://localhost:8080/",
          "height": 423
        },
        "outputId": "91bb4123-3353-42e9-ae51-a8082c1972e7"
      },
      "execution_count": null,
      "outputs": [
        {
          "output_type": "display_data",
          "data": {
            "text/plain": [
              "<Figure size 1000x500 with 10 Axes>"
            ],
            "image/png": "[encoded data removed]"
          },
          "metadata": {}
        }
      ]
    }
  ],
  "metadata": {
    "colab": {
      "provenance": [],
      "gpuType": "T4"
    },
    "kernelspec": {
      "display_name": "Python 3",
      "name": "python3"
    },
    "language_info": {
      "name": "python"
    },
    "accelerator": "GPU"
  },
  "nbformat": 4,
  "nbformat_minor": 0
}